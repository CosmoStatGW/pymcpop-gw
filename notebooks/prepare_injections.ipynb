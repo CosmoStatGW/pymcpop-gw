{
 "cells": [
  {
   "cell_type": "code",
   "execution_count": 1,
   "id": "d0b3cfff-4c08-4e04-827a-206b94eefe35",
   "metadata": {},
   "outputs": [],
   "source": [
    "import os\n",
    "import h5py\n",
    "import sys\n",
    "\n",
    "import numpy as np"
   ]
  },
  {
   "cell_type": "code",
   "execution_count": 2,
   "id": "34b707f2-6b8c-4da9-b181-35815c6c62a8",
   "metadata": {},
   "outputs": [],
   "source": [
    "base_fname_inj =  '/Users/Michi/Library/CloudStorage/Dropbox/Local/Physics_projects/galaxy_catalog_simulated_data/O5_v3/injections/'\n",
    "fname_inj = 'injections_20M_sources_PLP_v9s2_H1-L1-Virgo-KAGRA-LIGOI_IMRPhenomHM_snr_th-20_dutyfac-1_fmin-10_noiseless'\n",
    "ext='h5'\n",
    "\n",
    "fi = os.path.join(base_fname_inj, fname_inj+'.'+ext)"
   ]
  },
  {
   "cell_type": "code",
   "execution_count": 3,
   "id": "f0f9ebba-76db-42bf-952a-e1c35e4ba144",
   "metadata": {},
   "outputs": [],
   "source": [
    "def m1m2_from_Mceta(Mc, eta):\n",
    "    \n",
    "    Seta = np.sqrt(np.where(eta<0.25, 1.0 - 4.0*eta, 0.))\n",
    "    m1 = 0.5*(Mc/(eta**(3./5.)))*(1. + Seta)\n",
    "    m2 = 0.5*(Mc/(eta**(3./5.)))*(1. - Seta)\n",
    "\n",
    "    return m1, m2"
   ]
  },
  {
   "cell_type": "code",
   "execution_count": 5,
   "id": "5aceac9c-331d-4cce-9eb7-4a805eda0122",
   "metadata": {},
   "outputs": [
    {
     "name": "stdout",
     "output_type": "stream",
     "text": [
      "[]\n",
      "<KeysViewHDF5 ['Mc', 'Mcsrc', 'Ngen', 'Phicoal', 'SNR_net', 'chi1z', 'chi2z', 'dL', 'eta', 'iota', 'log_p_draw', 'log_p_draw_nospin', 'm1src', 'm2src', 'phi', 'psi', 'tGPS', 'tcoal', 'theta', 'z']>\n"
     ]
    }
   ],
   "source": [
    "with h5py.File(fi, 'r') as f:\n",
    "\n",
    "    print(list(f.attrs))\n",
    "\n",
    "    print(f.keys())\n",
    "\n",
    "    dLs = np.array(f['dL'])\n",
    "    Mc = np.array(f['Mc'])\n",
    "    eta =  np.array(f['eta'])\n",
    "    iota =  np.array(f['iota'])\n",
    "    ra =  np.array(f['phi'])\n",
    "    dec =  np.pi/2 - np.array(f['theta'])\n",
    "    log_p_draw_det = np.array(f['log_p_draw_nospin'])\n",
    "\n",
    "    m1d, m2d = m1m2_from_Mceta(Mc, eta)\n",
    "\n",
    "    N_draw = np.array(f['Ngen'])[0]"
   ]
  },
  {
   "cell_type": "code",
   "execution_count": 6,
   "id": "720a1733-52cd-4c9b-a7c6-de5e31436c51",
   "metadata": {},
   "outputs": [],
   "source": [
    "\n",
    "base_fout_name=fname_inj\n"
   ]
  },
  {
   "cell_type": "code",
   "execution_count": 7,
   "id": "8dd03a3a-ce23-49f4-a035-faf4aa064949",
   "metadata": {},
   "outputs": [],
   "source": [
    "np.save( os.path.join(base_fname_inj, base_fout_name+'_dL.npy'), dLs )\n",
    "np.save( os.path.join(base_fname_inj, base_fout_name+'_m1d.npy'), m1d )\n",
    "np.save( os.path.join(base_fname_inj, base_fout_name+'_m2d.npy'), m2d )\n",
    "np.save( os.path.join(base_fname_inj, base_fout_name+'_ra.npy'), ra )\n",
    "np.save( os.path.join(base_fname_inj, base_fout_name+'_dec.npy'), dec )\n",
    "np.save( os.path.join(base_fname_inj, base_fout_name+'_log_p_draw.npy'), log_p_draw_det )\n",
    "np.save( os.path.join(base_fname_inj, base_fout_name+'_Ngen.npy'), N_draw )\n",
    "np.savetxt( os.path.join(base_fname_inj, base_fout_name+'_Tobs.txt'), np.array([1.])) \n"
   ]
  },
  {
   "cell_type": "code",
   "execution_count": 8,
   "id": "f10a68a3-a6e3-4383-805a-f2efac8d5091",
   "metadata": {},
   "outputs": [
    {
     "data": {
      "text/plain": [
       "(1205250,)"
      ]
     },
     "execution_count": 8,
     "metadata": {},
     "output_type": "execute_result"
    }
   ],
   "source": [
    "dLs.shape\n"
   ]
  },
  {
   "cell_type": "code",
   "execution_count": null,
   "id": "a642239e-6e05-40cf-b233-a8f8f6b89131",
   "metadata": {},
   "outputs": [],
   "source": []
  }
 ],
 "metadata": {
  "kernelspec": {
   "display_name": "Python 3 (ipykernel)",
   "language": "python",
   "name": "python3"
  },
  "language_info": {
   "codemirror_mode": {
    "name": "ipython",
    "version": 3
   },
   "file_extension": ".py",
   "mimetype": "text/x-python",
   "name": "python",
   "nbconvert_exporter": "python",
   "pygments_lexer": "ipython3",
   "version": "3.11.6"
  }
 },
 "nbformat": 4,
 "nbformat_minor": 5
}
